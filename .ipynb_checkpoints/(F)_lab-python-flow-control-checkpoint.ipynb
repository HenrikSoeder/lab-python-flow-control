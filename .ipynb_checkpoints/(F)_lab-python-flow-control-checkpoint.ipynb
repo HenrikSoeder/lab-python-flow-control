{
 "cells": [
  {
   "cell_type": "markdown",
   "id": "d3bfc191-8885-42ee-b0a0-bbab867c6f9f",
   "metadata": {
    "tags": []
   },
   "source": [
    "# Lab | Flow Control"
   ]
  },
  {
   "cell_type": "markdown",
   "id": "3851fcd1-cf98-4653-9c89-e003b7ec9400",
   "metadata": {},
   "source": [
    "## Exercise: Managing Customer Orders Optimized\n",
    "\n",
    "In the last lab, you were starting an online store that sells various products. To ensure smooth operations, you developed a program that manages customer orders and inventory.\n",
    "\n",
    "You did so without using flow control. Let's go a step further and improve this code.\n",
    "\n",
    "Follow the steps below to complete the exercise:\n",
    "\n",
    "1. Look at your code from the lab data structures, and improve repeated code with loops.\n",
    "\n",
    "2. Instead of asking the user to input the name of three products that a customer wants to order, do the following:\n",
    "    \n",
    "    a. Prompt the user to enter the name of a product that a customer wants to order.\n",
    "    \n",
    "    b. Add the product name to the \"customer_orders\" set.\n",
    "    \n",
    "    c. Ask the user if they want to add another product (yes/no).\n",
    "    \n",
    "    d. Continue the loop until the user does not want to add another product.\n",
    "\n",
    "3. Instead of updating the inventory by subtracting 1 from the quantity of each product, only do it for  the products that were ordered (those in \"customer_orders\")."
   ]
  },
  {
   "cell_type": "code",
   "execution_count": 1,
   "id": "cc3f42e4",
   "metadata": {
    "scrolled": false
   },
   "outputs": [
    {
     "name": "stdout",
     "output_type": "stream",
     "text": [
      "You cannot order a product more than once\n",
      "Please enter the qunatity of t-shirt: 10\n",
      "Please enter the qunatity of mug: 10\n",
      "Please enter the qunatity of hat: 1010\n",
      "Please enter the qunatity of book: 1\n",
      "Please enter the qunatity of keychain: 01\n",
      "Do you want to order a product? yes or no: yes\n",
      "Please enter the name of the product you want to order: tshirt\n",
      "Please make sure you entered your order correctly\n",
      "Do not order something more than once\n",
      "Please enter the name of the product you want to order: t-shirt\n",
      "counter of your orders 1 \n",
      "Do you want to order another product? yes or no: no\n",
      "Thanks for shopping\n",
      " \n",
      " \n",
      "You ordered {'t-shirt'}\n",
      " \n",
      "Order Statistics:\n",
      "Total Products Ordered: 1\n",
      "Percentage of Procducts Ordered: 20.0% \n"
     ]
    }
   ],
   "source": [
    "costum_orders = set()\n",
    "products = [\"t-shirt\", \"mug\", \"hat\", \"book\", \"keychain\"]\n",
    "counter = 0\n",
    "total_products = len(products)\n",
    "temp_products = products.copy()\n",
    "print(\"You cannot order a product more than once\")\n",
    "buying_stop = 0\n",
    "inventory = {}\n",
    "    \n",
    "  \n",
    "\n",
    "for x in products:\n",
    "    inventory[x] = int(input(f\"Please enter the qunatity of {x}: \"))\n",
    "\n",
    "\n",
    "\n",
    "\n",
    "if input(\"Do you want to order a product? yes or no: \").strip()== \"yes\":    \n",
    "     for x in products :\n",
    "        if buying_stop == 0:\n",
    "            order = input(\"Please enter the name of the product you want to order: \").strip()\n",
    "            if order not in costum_orders and order in products:\n",
    "                costum_orders.add(order)\n",
    "                counter += 1\n",
    "                inventory[order] = inventory[order] - 1\n",
    "                temp_products.remove(order)#\n",
    "                print(f\"counter of your orders {counter} \")\n",
    "                awnser = input(\"Do you want to order another product? yes or no: \").strip()\n",
    "                \n",
    "                if awnser == \"yes\":\n",
    "                        z = 1\n",
    "                elif awnser == \"no\":\n",
    "                        buying_stop += 1\n",
    "                        \n",
    "                else:\n",
    "                    print(\"Please make sure you entered your awnser correctly\")\n",
    "                         \n",
    "\n",
    "        \n",
    "            else:\n",
    "                print(\"Please make sure you entered your order correctly\")\n",
    "                print(\"Do not order something more than once\")\n",
    "\n",
    "                \n",
    "        else:            \n",
    "            print(\"Thanks for shopping\")\n",
    "            print(\" \")\n",
    "            percentage = counter/total_products*100\n",
    "            order_status = (percentage)        \n",
    "        \n",
    "            print(\" \")\n",
    "            print(f\"You ordered {costum_orders}\")\n",
    "            print(\" \")\n",
    "\n",
    "            print(\"Order Statistics:\")\n",
    "            print(f\"Total Products Ordered: {counter}\")\n",
    "            print(f\"Percentage of Procducts Ordered: {order_status}% \") \n",
    "            break\n",
    "else:\n",
    "    print(\"Thanks for shopping\")\n",
    "    print(\" \")\n",
    "    percentage = counter/total_products*100\n",
    "    order_status = (percentage)        \n",
    "        \n",
    "    print(\" \")\n",
    "    print(f\"You ordered {list(costum_orders)}\")\n",
    "    print(\" \")\n",
    "    \n",
    "    print(\"Order Statistics:\")\n",
    "    print(f\"Total Products Ordered: {counter}\")\n",
    "    print(f\"Percentage of Procducts Ordered: {order_status}% \") \n",
    "              \n",
    "            \n",
    "        \n",
    "        "
   ]
  },
  {
   "cell_type": "code",
   "execution_count": null,
   "id": "4587c7b6",
   "metadata": {},
   "outputs": [],
   "source": []
  }
 ],
 "metadata": {
  "kernelspec": {
   "display_name": "Python 3 (ipykernel)",
   "language": "python",
   "name": "python3"
  },
  "language_info": {
   "codemirror_mode": {
    "name": "ipython",
    "version": 3
   },
   "file_extension": ".py",
   "mimetype": "text/x-python",
   "name": "python",
   "nbconvert_exporter": "python",
   "pygments_lexer": "ipython3",
   "version": "3.11.4"
  }
 },
 "nbformat": 4,
 "nbformat_minor": 5
}
